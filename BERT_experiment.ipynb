{
 "cells": [
  {
   "cell_type": "code",
   "execution_count": 7,
   "metadata": {},
   "outputs": [
    {
     "name": "stdout",
     "output_type": "stream",
     "text": [
      "['你', '好', '，', '我', '的', '名', '字', '是', '吳', '曉', '光']\n"
     ]
    },
    {
     "name": "stderr",
     "output_type": "stream",
     "text": [
      "Some weights of the model checkpoint at ./data/chinese-roberta-wwm-ext-large were not used when initializing BertModel: ['cls.predictions.decoder.weight', 'cls.predictions.transform.dense.bias', 'cls.predictions.bias', 'cls.predictions.transform.LayerNorm.bias', 'cls.seq_relationship.weight', 'cls.predictions.transform.LayerNorm.weight', 'cls.predictions.transform.dense.weight', 'cls.seq_relationship.bias']\n",
      "- This IS expected if you are initializing BertModel from the checkpoint of a model trained on another task or with another architecture (e.g. initializing a BertForSequenceClassification model from a BertForPreTraining model).\n",
      "- This IS NOT expected if you are initializing BertModel from the checkpoint of a model that you expect to be exactly identical (initializing a BertForSequenceClassification model from a BertForSequenceClassification model).\n"
     ]
    }
   ],
   "source": [
    "# import torch\n",
    "from transformers import BertTokenizer,BertModel\n",
    "BERT_path_root = \"./data/chinese-roberta-wwm-ext-large\"\n",
    "\n",
    "tokenizer = BertTokenizer.from_pretrained(BERT_path_root)\n",
    "print(tokenizer.tokenize(\"你好，我的名字是吳曉光\"))\n",
    "model = BertModel.from_pretrained(BERT_path_root)"
   ]
  },
  {
   "cell_type": "code",
   "execution_count": null,
   "metadata": {},
   "outputs": [],
   "source": [
    "BERT_path_root = \"./data/chinese_roberta_wwm_large_ext_pytorch\"\n",
    "bert_config_file_path = './data/chinese_roberta_wwm_large_ext_pytorch/bert_config.json'\n",
    "# bert_config = modeling.BertConfig.from_json_file(bert_config_file)\n",
    "init_checkpoint_path = os.path.join(BERT_path_root, 'bert_model.ckpt')\n",
    "bert_vocab_file_path = os.path.join(BERT_path_root, 'vocab.txt')\n",
    "print(bert_config_file_path)"
   ]
  },
  {
   "cell_type": "code",
   "execution_count": 1,
   "metadata": {},
   "outputs": [
    {
     "name": "stderr",
     "output_type": "stream",
     "text": [
      "Downloading: 100%|██████████| 647/647 [00:00<00:00, 649kB/s]\n",
      "Downloading: 100%|██████████| 110k/110k [00:00<00:00, 166kB/s]  \n",
      "Downloading: 100%|██████████| 269k/269k [00:00<00:00, 316kB/s]  \n",
      "Downloading: 100%|██████████| 2.00/2.00 [00:00<00:00, 2.00kB/s]\n",
      "Downloading: 100%|██████████| 112/112 [00:00<00:00, 112kB/s]\n",
      "Downloading: 100%|██████████| 19.0/19.0 [00:00<00:00, 19.0kB/s]\n",
      "Downloading: 100%|██████████| 412M/412M [00:04<00:00, 82.4MB/s] \n",
      "Some weights of the model checkpoint at hfl/chinese-bert-wwm-ext were not used when initializing BertForMaskedLM: ['cls.seq_relationship.weight', 'cls.seq_relationship.bias']\n",
      "- This IS expected if you are initializing BertForMaskedLM from the checkpoint of a model trained on another task or with another architecture (e.g. initializing a BertForSequenceClassification model from a BertForPreTraining model).\n",
      "- This IS NOT expected if you are initializing BertForMaskedLM from the checkpoint of a model that you expect to be exactly identical (initializing a BertForSequenceClassification model from a BertForSequenceClassification model).\n"
     ]
    }
   ],
   "source": [
    "from transformers import AutoTokenizer, AutoModelForMaskedLM\n",
    "tokenizer = AutoTokenizer.from_pretrained(\"hfl/chinese-bert-wwm-ext\")\n",
    "model = AutoModelForMaskedLM.from_pretrained(\"hfl/chinese-bert-wwm-ext\")"
   ]
  },
  {
   "cell_type": "code",
   "execution_count": 2,
   "metadata": {},
   "outputs": [
    {
     "name": "stderr",
     "output_type": "stream",
     "text": [
      "Downloading: 100%|██████████| 690/690 [00:00<00:00, 690kB/s]\n",
      "Downloading: 100%|██████████| 110k/110k [00:00<00:00, 161kB/s]  \n",
      "Downloading: 100%|██████████| 269k/269k [00:00<00:00, 305kB/s]  \n",
      "Downloading: 100%|██████████| 2.00/2.00 [00:00<00:00, 1.95kB/s]\n",
      "Downloading: 100%|██████████| 112/112 [00:00<00:00, 110kB/s]\n",
      "Downloading: 100%|██████████| 19.0/19.0 [00:00<00:00, 19.0kB/s]\n",
      "Downloading: 100%|██████████| 1.31G/1.31G [00:45<00:00, 28.9MB/s]   \n",
      "Some weights of the model checkpoint at hfl/chinese-roberta-wwm-ext-large were not used when initializing BertForMaskedLM: ['cls.seq_relationship.bias', 'cls.seq_relationship.weight']\n",
      "- This IS expected if you are initializing BertForMaskedLM from the checkpoint of a model trained on another task or with another architecture (e.g. initializing a BertForSequenceClassification model from a BertForPreTraining model).\n",
      "- This IS NOT expected if you are initializing BertForMaskedLM from the checkpoint of a model that you expect to be exactly identical (initializing a BertForSequenceClassification model from a BertForSequenceClassification model).\n"
     ]
    }
   ],
   "source": [
    "from transformers import AutoTokenizer, AutoModelForMaskedLM\n",
    "tokenizer = AutoTokenizer.from_pretrained(\"hfl/chinese-roberta-wwm-ext-large\")\n",
    "model = AutoModelForMaskedLM.from_pretrained(\"hfl/chinese-roberta-wwm-ext-large\")"
   ]
  },
  {
   "cell_type": "code",
   "execution_count": 3,
   "metadata": {},
   "outputs": [
    {
     "name": "stdout",
     "output_type": "stream",
     "text": [
      "['你', '好', '，', '我', '的', '名', '字', '是', '吳', '曉', '光']\n"
     ]
    }
   ],
   "source": [
    "print(tokenizer.tokenize(\"你好，我的名字是吳曉光\"))"
   ]
  }
 ],
 "metadata": {
  "interpreter": {
   "hash": "b988e9cef0b27b3784eb128b275c3533028856e0c9a2ef9485d8a89547c3c962"
  },
  "kernelspec": {
   "display_name": "Python 3.6.10 64-bit ('HARNNrec': conda)",
   "language": "python",
   "name": "python3"
  },
  "language_info": {
   "codemirror_mode": {
    "name": "ipython",
    "version": 3
   },
   "file_extension": ".py",
   "mimetype": "text/x-python",
   "name": "python",
   "nbconvert_exporter": "python",
   "pygments_lexer": "ipython3",
   "version": "3.6.13"
  },
  "orig_nbformat": 4
 },
 "nbformat": 4,
 "nbformat_minor": 2
}
